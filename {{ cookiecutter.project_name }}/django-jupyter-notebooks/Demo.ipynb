{
 "cells": [
  {
   "cell_type": "code",
   "execution_count": 5,
   "id": "ddda4504-025e-43be-aafb-7c4b070a4f74",
   "metadata": {},
   "outputs": [
    {
     "data": {
      "text/plain": [
       "[<User: admin>]"
      ]
     },
     "execution_count": 5,
     "metadata": {},
     "output_type": "execute_result"
    }
   ],
   "source": [
    "import os\n",
    "import django\n",
    "import sys\n",
    "from asgiref.sync import sync_to_async\n",
    "from django.contrib.auth import get_user_model\n",
    "\n",
    "sys.path.append(\"/app\")\n",
    "\n",
    "# Set the environment variable\n",
    "os.environ['DJANGO_SETTINGS_MODULE'] = '{{ cookiecutter.project_name }}.settings.local'\n",
    "django.setup()\n",
    "\n",
    "# Define an asynchronous function to fetch users\n",
    "async def fetch_users():\n",
    "    User = get_user_model()\n",
    "    users = await sync_to_async(list)(User.objects.all())\n",
    "    return users\n",
    "\n",
    "# Use await to call the asynchronous function directly\n",
    "users = await fetch_users()\n",
    "users"
   ]
  },
  {
   "cell_type": "code",
   "execution_count": 6,
   "id": "0356ee07-b6de-41c3-936e-71bb2a001843",
   "metadata": {},
   "outputs": [],
   "source": [
    "from django_apps.profiles.models import Profile\n",
    "\n",
    "@sync_to_async\n",
    "def get_profile(user):\n",
    "    return Profile.objects.get(user=user)\n",
    "    \n",
    "# Assuming `users` is a list of user instances\n",
    "async def get_profiles(users):\n",
    "    profiles = []\n",
    "    for user in users:\n",
    "        profile = await get_profile(user)\n",
    "        profiles.append(profile)\n",
    "    return profiles"
   ]
  },
  {
   "cell_type": "code",
   "execution_count": 7,
   "id": "15b63ed0-c921-4b60-8bb0-b7000fb622cd",
   "metadata": {},
   "outputs": [
    {
     "data": {
      "text/plain": [
       "<coroutine object get_profiles at 0x7f14308a05e0>"
      ]
     },
     "execution_count": 7,
     "metadata": {},
     "output_type": "execute_result"
    }
   ],
   "source": [
    "profiles = get_profiles(users)\n",
    "profiles"
   ]
  },
  {
   "cell_type": "code",
   "execution_count": null,
   "id": "75a69426-c68d-4048-abe3-fb69c26fce7e",
   "metadata": {},
   "outputs": [],
   "source": []
  },
  {
   "cell_type": "code",
   "execution_count": null,
   "id": "29bf7d83-03af-4ef1-9cc8-38511eae0704",
   "metadata": {},
   "outputs": [],
   "source": []
  }
 ],
 "metadata": {
  "kernelspec": {
   "display_name": "Python 3 (ipykernel)",
   "language": "python",
   "name": "python3"
  },
  "language_info": {
   "codemirror_mode": {
    "name": "ipython",
    "version": 3
   },
   "file_extension": ".py",
   "mimetype": "text/x-python",
   "name": "python",
   "nbconvert_exporter": "python",
   "pygments_lexer": "ipython3",
   "version": "3.11.2"
  }
 },
 "nbformat": 4,
 "nbformat_minor": 5
}
